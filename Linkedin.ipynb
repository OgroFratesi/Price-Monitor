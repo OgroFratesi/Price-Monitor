{
 "cells": [
  {
   "cell_type": "code",
   "execution_count": 32,
   "id": "85f024b8",
   "metadata": {},
   "outputs": [],
   "source": [
    "import pandas as pd\n",
    "import time\n",
    "from selenium import webdriver\n",
    "import timeit\n",
    "import warnings\n",
    "from selenium.webdriver.common.keys import Keys\n",
    "\n",
    "\n",
    "warnings.filterwarnings('ignore')"
   ]
  },
  {
   "cell_type": "code",
   "execution_count": 33,
   "id": "43d7917a",
   "metadata": {},
   "outputs": [],
   "source": [
    "# El PATH donde se encuentra el CHROMEDRIVER\n",
    "path = 'C:/Users/Jfratesi/chromedriver'\n",
    "\n",
    "driver = webdriver.Chrome(path)\n",
    "\n",
    "# Entramos a la pagina de COTO\n",
    "driver.get('https://www.linkedin.com/feed/')\n",
    "time.sleep(3)\n",
    "\n",
    "driver.find_element_by_xpath('/html/body/div[1]/main/p[1]/a').click()\n",
    "time.sleep(3)\n",
    "\n",
    "buscador = driver.find_element_by_xpath('//*[@id=\"username\"]')\n",
    "buscador.send_keys('juanfratesi@gmail.com')\n",
    "time.sleep(1)\n",
    "\n",
    "buscador = driver.find_element_by_xpath('//*[@id=\"password\"]')\n",
    "buscador.send_keys('Didierdrogba11')\n",
    "time.sleep(1)\n",
    "buscador.submit\n",
    "time.sleep(1)\n",
    "\n",
    "# Envio contraseña\n",
    "driver.find_element_by_xpath('//*[@id=\"organic-div\"]/form/div[3]/button').submit()\n",
    "time.sleep(2)"
   ]
  },
  {
   "cell_type": "code",
   "execution_count": 34,
   "id": "9079474d",
   "metadata": {},
   "outputs": [],
   "source": [
    "buscador = driver.find_element_by_xpath('//*[@id=\"global-nav-typeahead\"]/input')\n",
    "time.sleep(1)\n",
    "buscador.clear()\n",
    "buscador.send_keys('data scientist')\n",
    "buscador.send_keys(Keys.ENTER)"
   ]
  },
  {
   "cell_type": "code",
   "execution_count": 4,
   "id": "8de3b260",
   "metadata": {},
   "outputs": [],
   "source": [
    "for e in range(5,8):\n",
    "    try:\n",
    "        driver.find_element_by_xpath(f'/html/body/div[{e}]/div[3]/div/div[2]/section/div/nav/div/ul/li[3]/button').click()\n",
    "        time.sleep(3)\n",
    "        driver.find_element_by_xpath(f'/html/body/div[{e}]/div[3]/div/div[2]/section/div/nav/div/ul/li[4]/div/span/button').click()\n",
    "        time.sleep(3)\n",
    "        driver.find_element_by_xpath(f'/html/body/div[{e}]/div[3]/div/div[2]/section/div/nav/div/ul/li[4]/div/div/div/div[1]/div/form/fieldset/div[1]/ul/li[1]/label').click()\n",
    "        time.sleep(3)\n",
    "        driver.find_element_by_xpath(f'/html/body/div[{e}]/div[3]/div/div[2]/section/div/nav/div/ul/li[4]/div/div/div/div[1]/div/form/fieldset/div[2]/button[2]').click()\n",
    "        time.sleep(3)\n",
    "    except:\n",
    "        pass"
   ]
  },
  {
   "cell_type": "code",
   "execution_count": 8,
   "id": "b7e93f63",
   "metadata": {},
   "outputs": [],
   "source": [
    "driver.find_element_by_xpath('/html/body/div[5]/div[3]/div/div[2]/section/div/nav/div/ul/li[4]/button').click()\n",
    "time.sleep(2)"
   ]
  },
  {
   "cell_type": "code",
   "execution_count": 8,
   "id": "151c40f9",
   "metadata": {},
   "outputs": [],
   "source": [
    "driver.find_element_by_xpath('/html/body/div[5]/div[3]/div/div[2]/section/div/nav/div/ul/li[3]/button').click()\n",
    "time.sleep(2)"
   ]
  },
  {
   "cell_type": "code",
   "execution_count": 7,
   "id": "5e64c7c2",
   "metadata": {
    "collapsed": true
   },
   "outputs": [
    {
     "ename": "NoSuchElementException",
     "evalue": "Message: no such element: Unable to locate element: {\"method\":\"xpath\",\"selector\":\"/html/body/div[6]/div[3]/div/div[2]/section/div/nav/div/ul/li[4]/div/span/button\"}\n  (Session info: chrome=96.0.4664.93)\n",
     "output_type": "error",
     "traceback": [
      "\u001b[1;31m---------------------------------------------------------------------------\u001b[0m",
      "\u001b[1;31mNoSuchElementException\u001b[0m                    Traceback (most recent call last)",
      "\u001b[1;32m<ipython-input-7-700e3cc32ab1>\u001b[0m in \u001b[0;36m<module>\u001b[1;34m\u001b[0m\n\u001b[1;32m----> 1\u001b[1;33m \u001b[0mdriver\u001b[0m\u001b[1;33m.\u001b[0m\u001b[0mfind_element_by_xpath\u001b[0m\u001b[1;33m(\u001b[0m\u001b[1;34m'/html/body/div[6]/div[3]/div/div[2]/section/div/nav/div/ul/li[4]/div/span/button'\u001b[0m\u001b[1;33m)\u001b[0m\u001b[1;33m.\u001b[0m\u001b[0mclick\u001b[0m\u001b[1;33m(\u001b[0m\u001b[1;33m)\u001b[0m\u001b[1;33m\u001b[0m\u001b[1;33m\u001b[0m\u001b[0m\n\u001b[0m\u001b[0;32m      2\u001b[0m \u001b[0mtime\u001b[0m\u001b[1;33m.\u001b[0m\u001b[0msleep\u001b[0m\u001b[1;33m(\u001b[0m\u001b[1;36m2\u001b[0m\u001b[1;33m)\u001b[0m\u001b[1;33m\u001b[0m\u001b[1;33m\u001b[0m\u001b[0m\n",
      "\u001b[1;32m~\\Anaconda3\\lib\\site-packages\\selenium\\webdriver\\remote\\webdriver.py\u001b[0m in \u001b[0;36mfind_element_by_xpath\u001b[1;34m(self, xpath)\u001b[0m\n\u001b[0;32m    392\u001b[0m             \u001b[0melement\u001b[0m \u001b[1;33m=\u001b[0m \u001b[0mdriver\u001b[0m\u001b[1;33m.\u001b[0m\u001b[0mfind_element_by_xpath\u001b[0m\u001b[1;33m(\u001b[0m\u001b[1;34m'//div/td[1]'\u001b[0m\u001b[1;33m)\u001b[0m\u001b[1;33m\u001b[0m\u001b[1;33m\u001b[0m\u001b[0m\n\u001b[0;32m    393\u001b[0m         \"\"\"\n\u001b[1;32m--> 394\u001b[1;33m         \u001b[1;32mreturn\u001b[0m \u001b[0mself\u001b[0m\u001b[1;33m.\u001b[0m\u001b[0mfind_element\u001b[0m\u001b[1;33m(\u001b[0m\u001b[0mby\u001b[0m\u001b[1;33m=\u001b[0m\u001b[0mBy\u001b[0m\u001b[1;33m.\u001b[0m\u001b[0mXPATH\u001b[0m\u001b[1;33m,\u001b[0m \u001b[0mvalue\u001b[0m\u001b[1;33m=\u001b[0m\u001b[0mxpath\u001b[0m\u001b[1;33m)\u001b[0m\u001b[1;33m\u001b[0m\u001b[1;33m\u001b[0m\u001b[0m\n\u001b[0m\u001b[0;32m    395\u001b[0m \u001b[1;33m\u001b[0m\u001b[0m\n\u001b[0;32m    396\u001b[0m     \u001b[1;32mdef\u001b[0m \u001b[0mfind_elements_by_xpath\u001b[0m\u001b[1;33m(\u001b[0m\u001b[0mself\u001b[0m\u001b[1;33m,\u001b[0m \u001b[0mxpath\u001b[0m\u001b[1;33m)\u001b[0m\u001b[1;33m:\u001b[0m\u001b[1;33m\u001b[0m\u001b[1;33m\u001b[0m\u001b[0m\n",
      "\u001b[1;32m~\\Anaconda3\\lib\\site-packages\\selenium\\webdriver\\remote\\webdriver.py\u001b[0m in \u001b[0;36mfind_element\u001b[1;34m(self, by, value)\u001b[0m\n\u001b[0;32m    974\u001b[0m                 \u001b[0mby\u001b[0m \u001b[1;33m=\u001b[0m \u001b[0mBy\u001b[0m\u001b[1;33m.\u001b[0m\u001b[0mCSS_SELECTOR\u001b[0m\u001b[1;33m\u001b[0m\u001b[1;33m\u001b[0m\u001b[0m\n\u001b[0;32m    975\u001b[0m                 \u001b[0mvalue\u001b[0m \u001b[1;33m=\u001b[0m \u001b[1;34m'[name=\"%s\"]'\u001b[0m \u001b[1;33m%\u001b[0m \u001b[0mvalue\u001b[0m\u001b[1;33m\u001b[0m\u001b[1;33m\u001b[0m\u001b[0m\n\u001b[1;32m--> 976\u001b[1;33m         return self.execute(Command.FIND_ELEMENT, {\n\u001b[0m\u001b[0;32m    977\u001b[0m             \u001b[1;34m'using'\u001b[0m\u001b[1;33m:\u001b[0m \u001b[0mby\u001b[0m\u001b[1;33m,\u001b[0m\u001b[1;33m\u001b[0m\u001b[1;33m\u001b[0m\u001b[0m\n\u001b[0;32m    978\u001b[0m             'value': value})['value']\n",
      "\u001b[1;32m~\\Anaconda3\\lib\\site-packages\\selenium\\webdriver\\remote\\webdriver.py\u001b[0m in \u001b[0;36mexecute\u001b[1;34m(self, driver_command, params)\u001b[0m\n\u001b[0;32m    319\u001b[0m         \u001b[0mresponse\u001b[0m \u001b[1;33m=\u001b[0m \u001b[0mself\u001b[0m\u001b[1;33m.\u001b[0m\u001b[0mcommand_executor\u001b[0m\u001b[1;33m.\u001b[0m\u001b[0mexecute\u001b[0m\u001b[1;33m(\u001b[0m\u001b[0mdriver_command\u001b[0m\u001b[1;33m,\u001b[0m \u001b[0mparams\u001b[0m\u001b[1;33m)\u001b[0m\u001b[1;33m\u001b[0m\u001b[1;33m\u001b[0m\u001b[0m\n\u001b[0;32m    320\u001b[0m         \u001b[1;32mif\u001b[0m \u001b[0mresponse\u001b[0m\u001b[1;33m:\u001b[0m\u001b[1;33m\u001b[0m\u001b[1;33m\u001b[0m\u001b[0m\n\u001b[1;32m--> 321\u001b[1;33m             \u001b[0mself\u001b[0m\u001b[1;33m.\u001b[0m\u001b[0merror_handler\u001b[0m\u001b[1;33m.\u001b[0m\u001b[0mcheck_response\u001b[0m\u001b[1;33m(\u001b[0m\u001b[0mresponse\u001b[0m\u001b[1;33m)\u001b[0m\u001b[1;33m\u001b[0m\u001b[1;33m\u001b[0m\u001b[0m\n\u001b[0m\u001b[0;32m    322\u001b[0m             response['value'] = self._unwrap_value(\n\u001b[0;32m    323\u001b[0m                 response.get('value', None))\n",
      "\u001b[1;32m~\\Anaconda3\\lib\\site-packages\\selenium\\webdriver\\remote\\errorhandler.py\u001b[0m in \u001b[0;36mcheck_response\u001b[1;34m(self, response)\u001b[0m\n\u001b[0;32m    240\u001b[0m                 \u001b[0malert_text\u001b[0m \u001b[1;33m=\u001b[0m \u001b[0mvalue\u001b[0m\u001b[1;33m[\u001b[0m\u001b[1;34m'alert'\u001b[0m\u001b[1;33m]\u001b[0m\u001b[1;33m.\u001b[0m\u001b[0mget\u001b[0m\u001b[1;33m(\u001b[0m\u001b[1;34m'text'\u001b[0m\u001b[1;33m)\u001b[0m\u001b[1;33m\u001b[0m\u001b[1;33m\u001b[0m\u001b[0m\n\u001b[0;32m    241\u001b[0m             \u001b[1;32mraise\u001b[0m \u001b[0mexception_class\u001b[0m\u001b[1;33m(\u001b[0m\u001b[0mmessage\u001b[0m\u001b[1;33m,\u001b[0m \u001b[0mscreen\u001b[0m\u001b[1;33m,\u001b[0m \u001b[0mstacktrace\u001b[0m\u001b[1;33m,\u001b[0m \u001b[0malert_text\u001b[0m\u001b[1;33m)\u001b[0m\u001b[1;33m\u001b[0m\u001b[1;33m\u001b[0m\u001b[0m\n\u001b[1;32m--> 242\u001b[1;33m         \u001b[1;32mraise\u001b[0m \u001b[0mexception_class\u001b[0m\u001b[1;33m(\u001b[0m\u001b[0mmessage\u001b[0m\u001b[1;33m,\u001b[0m \u001b[0mscreen\u001b[0m\u001b[1;33m,\u001b[0m \u001b[0mstacktrace\u001b[0m\u001b[1;33m)\u001b[0m\u001b[1;33m\u001b[0m\u001b[1;33m\u001b[0m\u001b[0m\n\u001b[0m\u001b[0;32m    243\u001b[0m \u001b[1;33m\u001b[0m\u001b[0m\n\u001b[0;32m    244\u001b[0m     \u001b[1;32mdef\u001b[0m \u001b[0m_value_or_default\u001b[0m\u001b[1;33m(\u001b[0m\u001b[0mself\u001b[0m\u001b[1;33m,\u001b[0m \u001b[0mobj\u001b[0m\u001b[1;33m,\u001b[0m \u001b[0mkey\u001b[0m\u001b[1;33m,\u001b[0m \u001b[0mdefault\u001b[0m\u001b[1;33m)\u001b[0m\u001b[1;33m:\u001b[0m\u001b[1;33m\u001b[0m\u001b[1;33m\u001b[0m\u001b[0m\n",
      "\u001b[1;31mNoSuchElementException\u001b[0m: Message: no such element: Unable to locate element: {\"method\":\"xpath\",\"selector\":\"/html/body/div[6]/div[3]/div/div[2]/section/div/nav/div/ul/li[4]/div/span/button\"}\n  (Session info: chrome=96.0.4664.93)\n"
     ]
    }
   ],
   "source": [
    "driver.find_element_by_xpath('/html/body/div[6]/div[3]/div/div[2]/section/div/nav/div/ul/li[4]/div/span/button').click()\n",
    "time.sleep(2)"
   ]
  },
  {
   "cell_type": "code",
   "execution_count": null,
   "id": "8abc2d70",
   "metadata": {},
   "outputs": [],
   "source": [
    "information = []\n",
    "experiencia = []\n",
    "education = []\n",
    "certificacion = []\n",
    "aptitudes1, aptitudes2 = [], []"
   ]
  },
  {
   "cell_type": "code",
   "execution_count": 35,
   "id": "757d5b26",
   "metadata": {},
   "outputs": [
    {
     "ename": "KeyboardInterrupt",
     "evalue": "",
     "output_type": "error",
     "traceback": [
      "\u001b[1;31m---------------------------------------------------------------------------\u001b[0m",
      "\u001b[1;31mKeyboardInterrupt\u001b[0m                         Traceback (most recent call last)",
      "\u001b[1;32m<ipython-input-35-1885a2e037f0>\u001b[0m in \u001b[0;36m<module>\u001b[1;34m\u001b[0m\n\u001b[0;32m    143\u001b[0m \u001b[1;33m\u001b[0m\u001b[0m\n\u001b[0;32m    144\u001b[0m     \u001b[0mdriver\u001b[0m\u001b[1;33m.\u001b[0m\u001b[0mrefresh\u001b[0m\u001b[1;33m(\u001b[0m\u001b[1;33m)\u001b[0m\u001b[1;33m\u001b[0m\u001b[1;33m\u001b[0m\u001b[0m\n\u001b[1;32m--> 145\u001b[1;33m     \u001b[0mtime\u001b[0m\u001b[1;33m.\u001b[0m\u001b[0msleep\u001b[0m\u001b[1;33m(\u001b[0m\u001b[1;36m2\u001b[0m\u001b[1;33m)\u001b[0m\u001b[1;33m\u001b[0m\u001b[1;33m\u001b[0m\u001b[0m\n\u001b[0m\u001b[0;32m    146\u001b[0m     \u001b[0mpaso_pagina\u001b[0m \u001b[1;33m=\u001b[0m \u001b[1;32mFalse\u001b[0m\u001b[1;33m\u001b[0m\u001b[1;33m\u001b[0m\u001b[0m\n\u001b[0;32m    147\u001b[0m     \u001b[0mintento\u001b[0m \u001b[1;33m=\u001b[0m \u001b[1;36m0\u001b[0m\u001b[1;33m\u001b[0m\u001b[1;33m\u001b[0m\u001b[0m\n",
      "\u001b[1;31mKeyboardInterrupt\u001b[0m: "
     ]
    }
   ],
   "source": [
    "PAGINAS = 0\n",
    "LISTO = False\n",
    "while not LISTO:\n",
    "    for perfil in range(1,11):\n",
    "        encontro = False\n",
    "        time.sleep(2)\n",
    "        try:\n",
    "            driver.find_element_by_xpath(f'/html/body/div[6]/div[3]/div/div[2]/div/div[1]/main/div/div/div[2]/ul/li[{perfil}]/div/div/div[2]/div[1]/div[1]/div/span[1]/span/a/span/span[1]').click()\n",
    "            encontro = True\n",
    "        except:\n",
    "            pass\n",
    "        try:\n",
    "            driver.find_element_by_xpath(f'/html/body/div[5]/div[3]/div/div[2]/div/div[1]/main/div/div/div[2]/ul/li[{perfil}]/div/div/div[2]/div[1]/div[1]/div/span[1]/span/a/span/span[1]').click()\n",
    "            encontro = True\n",
    "        except:\n",
    "            pass\n",
    "        \n",
    "        if not encontro:\n",
    "            break\n",
    "        time.sleep(5)\n",
    "        \n",
    "        driver.refresh()\n",
    "        \n",
    "        time.sleep(3)\n",
    "        \n",
    "        for y in range(5,8):\n",
    "            try:\n",
    "                info = driver.find_element_by_xpath(f'/html/body/div[{y}]/div[3]/div/div/div/div/div[3]/div/div/main/div/section/div[2]/div[2]')\n",
    "                information.append(info.text)\n",
    "                break\n",
    "            except:\n",
    "                pass\n",
    "        \n",
    "        if (len(information) - len(experiencia)) != 1:\n",
    "            information.append('nada')\n",
    "        \n",
    "        driver.execute_script(\"window.scrollBy(0,500)\")\n",
    "        \n",
    "        for y in range(5,8):\n",
    "            try:\n",
    "                c = driver.find_element_by_xpath(f'/html/body/div[{y}]/div[3]/div/div/div/div/div[3]/div/div/main/div/div/div[5]/span/div/section/div[1]/section/div/button').click()\n",
    "            except:\n",
    "                pass\n",
    "        for y in range(5,8):\n",
    "            for p in range(1,8):\n",
    "                try:\n",
    "                    c = driver.find_element_by_xpath(f'/html/body/div[{y}]/div[3]/div/div/div/div/div[3]/div/div/main/div/div/div[5]/span/div/section/div[1]/section/ul/li[{p}]/section/div/div/div/div/span/button').click()\n",
    "                except:\n",
    "                    pass\n",
    "        for y in range(5,7):\n",
    "            try:\n",
    "                c = driver.find_element_by_xpath(f'/html/body/div[{y}]/div[3]/div/div/div/div/div[3]/div/div/main/div/div/div[5]/span/div/section/div[3]/section/div/button').click()\n",
    "            except:\n",
    "                pass\n",
    "        try:\n",
    "            exp = driver.find_element_by_xpath('//*[@id=\"experience-section\"]/ul')\n",
    "            experiencia.append(exp.text)\n",
    "        except:\n",
    "            experiencia.append('nada')\n",
    "        time.sleep(1)\n",
    "        try:\n",
    "            edu = driver.find_element_by_xpath('//*[@id=\"education-section\"]')\n",
    "            education.append(edu.text)\n",
    "        except:\n",
    "            education.append('nada')\n",
    "        time.sleep(2)\n",
    "        try:    \n",
    "            cert = driver.find_element_by_xpath('//*[@id=\"certifications-section\"]')\n",
    "            certificacion.append(cert.text)\n",
    "        except:\n",
    "            certificacion.append('nada')\n",
    "\n",
    "        more_aptitudes = False\n",
    "        i = 0\n",
    "        while not more_aptitudes:\n",
    "            driver.execute_script(\"window.scrollBy(0,200)\")\n",
    "            time.sleep(2)\n",
    "            i += 1\n",
    "            try:\n",
    "                c = driver.find_element_by_xpath('/html/body/div[6]/div[3]/div/div/div/div/div[3]/div/div/main/div/div/div[6]/div/section/div[2]/button').click()\n",
    "                more_aptitudes = True\n",
    "            except:\n",
    "                pass\n",
    "\n",
    "            try:\n",
    "                c = driver.find_element_by_xpath('/html/body/div[6]/div[3]/div/div/div/div/div[3]/div/div/main/div/div/div[5]/span/div/section/div[1]/section/ul/li[4]/section/div/div/div/div/span/button').click()\n",
    "                more_aptitudes = True\n",
    "            except:\n",
    "                pass\n",
    "            \n",
    "            for y in range(5,8):\n",
    "                for p in range(5,8):\n",
    "                    try:\n",
    "                        c = driver.find_element_by_xpath(f'/html/body/div[{y}]/div[3]/div/div/div/div/div[3]/div/div/main/div/div/div[{p}]/div/section/div[2]/button').click()\n",
    "                        more_aptitudes = True\n",
    "                    except:\n",
    "                        pass\n",
    "\n",
    "            if i > 20:\n",
    "                driver.refresh()\n",
    "                time.sleep(1)\n",
    "                break\n",
    "\n",
    "        time.sleep(2)\n",
    "\n",
    "        for w in range(6,8):\n",
    "            try:\n",
    "                apt1 = driver.find_element_by_xpath(f'/html/body/div[6]/div[3]/div/div/div/div/div[3]/div/div/main/div/div/div[{w}]/div/section/ol')\n",
    "                apt1 = apt1.text\n",
    "                break\n",
    "            except:\n",
    "                apt1 = False\n",
    "\n",
    "            try:\n",
    "                apt2 = driver.find_element_by_xpath(f'/html/body/div[5]/div[3]/div/div/div/div/div[3]/div/div/main/div/div/div[{w}]/div/section/ol')\n",
    "                apt2 = apt2.text\n",
    "                break\n",
    "            except:\n",
    "                apt2 = False\n",
    "\n",
    "        if apt1:\n",
    "            aptitudes1.append(apt1)\n",
    "        elif apt2:\n",
    "            aptitudes1.append(apt2)\n",
    "        else:\n",
    "            aptitudes1.append('nada')\n",
    "        try:\n",
    "            apt2 = driver.find_element_by_xpath('//*[@id=\"skill-categories-expanded\"]')\n",
    "            aptitudes2.append(apt2.text)\n",
    "        except:\n",
    "            aptitudes2.append('nada')\n",
    "\n",
    "        time.sleep(2)\n",
    "        driver.execute_script(\"window.history.go(-1)\")\n",
    "        if perfil > 7:\n",
    "            driver.execute_script(\"window.scrollTo(0, document.body.scrollHeight);\")\n",
    "            time.sleep(1)\n",
    "            driver.execute_script(\"window.scrollBy(0,-800)\")\n",
    "        time.sleep(5)\n",
    "        \n",
    "    PAGINAS += 1\n",
    "    LISTO = (PAGINAS == 60)\n",
    "    \n",
    "    driver.refresh()\n",
    "    time.sleep(2)\n",
    "    paso_pagina = False\n",
    "    intento = 0\n",
    "    while not paso_pagina:\n",
    "        intento += 1\n",
    "        driver.execute_script(\"window.scrollBy(0,200)\")\n",
    "        for y in range(5,8):\n",
    "            try:\n",
    "                c = driver.find_element_by_xpath(f'/html/body/div[{y}]/div[3]/div/div[2]/div/div[1]/main/div/div/div[5]/div/div/button[2]').click()\n",
    "                paso_pagina = True\n",
    "            except:\n",
    "                pass\n",
    "\n",
    "            try:\n",
    "                c = driver.find_element_by_xpath(f'/html/body/div[{y}]/div[3]/div/div[2]/div/div[1]/main/div/div/div[2]/div[2]/div/button[2]').click()\n",
    "                paso_pagina = True\n",
    "            except:\n",
    "                pass\n",
    "    time.sleep(3)"
   ]
  },
  {
   "cell_type": "code",
   "execution_count": null,
   "id": "5af77f11",
   "metadata": {},
   "outputs": [],
   "source": []
  },
  {
   "cell_type": "code",
   "execution_count": 36,
   "id": "d50d457e",
   "metadata": {},
   "outputs": [
    {
     "data": {
      "text/plain": [
       "(390, 390, 390, 390, 390)"
      ]
     },
     "execution_count": 36,
     "metadata": {},
     "output_type": "execute_result"
    }
   ],
   "source": [
    "len(information), len(experiencia), len(certificacion), len(education), len(aptitudes1)"
   ]
  },
  {
   "cell_type": "code",
   "execution_count": 7,
   "id": "a6756962",
   "metadata": {},
   "outputs": [
    {
     "data": {
      "text/plain": [
       "['nada',\n",
       " 'Roy Rubin\\nContacto de 2º grado\\n2º\\nData Scientist @ Be The Bank\\nBTB - Be The Bank.\\nTechnion - Israel Institute of Technology\\nTel Aviv-Yafo, Distrito de Tel Aviv, Israel Información de contacto',\n",
       " 'nada',\n",
       " 'asaf aharoni\\nContacto de 2º grado\\n2º\\nData Scientist at Facebook\\nFacebook\\nBen Gurion University of the Negev\\nIsrael Información de contacto',\n",
       " 'nada',\n",
       " 'Ron Presburger\\nContacto de 2º grado\\n2º\\nData Scientist at Facebook\\nFacebook\\nTechnion - Israel Institute of Technology\\nIsrael Información de contacto',\n",
       " 'Hamutal Amir\\nContacto de 2º grado\\n2º\\nData Scientist\\nNogamy נוגמי\\nBar-Ilan University\\nIsrael Información de contacto',\n",
       " 'nada',\n",
       " 'Roee David\\nContacto de 2º grado\\n2º\\nData Scientist at Datorama\\nDatorama\\nWeizmann Institute of Science\\nIsrael Información de contacto',\n",
       " 'nada',\n",
       " 'Shai Kazaz\\nContacto de 2º grado\\n2º\\nSenior Data Scientist at BlueVoyant\\nBlueVoyant\\nTel Aviv University\\nIsrael Información de contacto',\n",
       " 'nada',\n",
       " 'Hanan Libhaber\\nContacto de 2º grado\\n2º\\nData Scientist\\nBen-Gurion University of the Negev\\nTel Aviv-Yafo, Distrito de Tel Aviv, Israel Información de contacto',\n",
       " 'nada',\n",
       " 'Aviv Yonai\\nContacto de 2º grado\\n2º\\nData Scientist at MIcompany\\nMIcompany\\nTel Aviv University\\nTel Aviv-Yafo, Distrito de Tel Aviv, Israel Información de contacto',\n",
       " 'Nitay H.\\nContacto de 2º grado\\n2º\\nResearcher & Data Scientist\\nStealth Mode Startup Company\\nAriel University\\nRamat Gan, Distrito de Tel Aviv, Israel Información de contacto',\n",
       " 'nada',\n",
       " 'Tal Elisberg\\nContacto de 2º grado\\n2º\\nData Scientist @ Flipkart Israel\\nFlipkart Israel\\nTechnion - Israel Institute of Technology\\nIsrael Información de contacto',\n",
       " 'nada',\n",
       " 'Joshua Schneck\\nContacto de 2º grado\\n2º\\nData Scientist at Meta\\nMeta\\nThe Hebrew University\\nDistrito de Tel Aviv, Israel Información de contacto',\n",
       " 'nada',\n",
       " 'Maayan Shalom\\nContacto de 2º grado\\n2º\\nData Scientist at Zone7\\nZone7\\nTel Aviv University\\nDistrito de Tel Aviv, Israel Información de contacto',\n",
       " 'nada',\n",
       " 'Jonas Ouazan\\nContacto de 2º grado\\n2º\\nData Scientist @Waze - Ex-PM\\nGoogle\\nIsrael Tech Challenge <itc>\\nDistrito de Tel Aviv, Israel Información de contacto',\n",
       " 'nada',\n",
       " 'Ekaterina Tsiperson\\nContacto de 2º grado\\n2º\\nData Scientist\\nDiscount Bank\\nBar-Ilan University\\nIsrael Información de contacto',\n",
       " 'nada',\n",
       " 'Joshua Schneck\\nContacto de 2º grado\\n2º\\nData Scientist at Meta\\nMeta\\nThe Hebrew University\\nDistrito de Tel Aviv, Israel Información de contacto',\n",
       " 'nada',\n",
       " 'Or Menda\\nContacto de 2º grado\\n2º\\nData Scientist at Migdal Group\\nMigdal Group\\nTel Aviv University\\nTel Aviv-Yafo, Distrito de Tel Aviv, Israel Información de contacto',\n",
       " 'nada',\n",
       " 'Shani Baumer\\nContacto de 2º grado\\n2º\\nData Scientist at Facebook\\nFacebook\\nTel Aviv University\\nIsrael Información de contacto',\n",
       " 'nada',\n",
       " 'Maor Shoshan\\nContacto de 2º grado\\n2º\\nData Scientist at Riskified\\nRiskified\\nThe Hebrew University\\nDistrito de Tel Aviv, Israel Información de contacto',\n",
       " 'Gal Naamani\\nContacto de 2º grado\\n2º\\nData Scientist at Fiverr\\nFiverr\\nTel Aviv University\\nNorte / Ha Zafon, Israel Información de contacto',\n",
       " 'nada',\n",
       " 'Shahar Bercovitz\\nContacto de 2º grado\\n2º\\nData Scientist at Leadspace\\nLeadspace\\nNAYA-College\\nDistrito de Tel Aviv, Israel Información de contacto',\n",
       " 'nada',\n",
       " 'Anthony Trabaud\\nContacto de 2º grado\\n2º\\nData Scientist at Explorium\\nExplorium\\nEnsae ParisTech\\nDistrito de Tel Aviv, Israel Información de contacto',\n",
       " 'nada',\n",
       " 'Yuval Lewi\\nContacto de 2º grado\\n2º\\nData Scientist at DRW\\nDRW\\nTel Aviv University\\nIsrael Información de contacto',\n",
       " 'tamir raviv\\nContacto de 2º grado\\n2º\\nData Scientist at JOKR\\nJOKR\\nTel Aviv University\\nTel Aviv-Yafo, Distrito de Tel Aviv, Israel Información de contacto',\n",
       " 'Noa Mazor Eldar\\nContacto de 2º grado\\n2º\\nData Scientist at Wix\\nWix.com\\nTel Aviv University\\nDistrito de Tel Aviv, Israel Información de contacto',\n",
       " 'Omer Hedvat\\nContacto de 2º grado\\n2º\\nData Scientist at Marpai Health\\nMarpai Health, Marpai Labs\\nTel Aviv University\\nIsrael Información de contacto',\n",
       " 'nada',\n",
       " 'Noa Mazor Eldar\\nContacto de 2º grado\\n2º\\nData Scientist at Wix\\nWix.com\\nTel Aviv University\\nDistrito de Tel Aviv, Israel Información de contacto',\n",
       " 'nada',\n",
       " 'Dana Rapoport\\nContacto de 2º grado\\n2º\\nData Scientist at PayPal\\nPayPal\\nTel Aviv University\\nTel Aviv-Yafo, Distrito de Tel Aviv, Israel Información de contacto',\n",
       " 'nada',\n",
       " 'Omri Jan\\nContacto de 2º grado\\n2º\\nData Scientist at Bluedot\\nBlue dot\\nTel Aviv University\\nTel Aviv-Yafo, Distrito de Tel Aviv, Israel Información de contacto',\n",
       " 'Orly Even-dar\\nContacto de 2º grado\\n2º\\nData Scientist at Facebook\\nFacebook\\nTel Aviv University\\nIsrael Información de contacto',\n",
       " 'Shahar Dror\\nContacto de 2º grado\\n2º\\nData Scientist at Similarweb\\nSimilarWeb\\nUniversity of California San Diego\\nDistrito de Tel Aviv, Israel Información de contacto',\n",
       " 'Netta Simhi\\nContacto de 2º grado\\n2º\\nData Scientist at noogata\\nnoogata\\nBen-Gurion University of the Negev\\nDistrito de Tel Aviv, Israel Información de contacto',\n",
       " 'nada',\n",
       " 'Nehor Golan\\nContacto de 2º grado\\n2º\\nData Scientist at Leadspace\\nLeadspace\\nAriel University\\nDistrito de Tel Aviv, Israel Información de contacto',\n",
       " 'nada',\n",
       " 'Ori Rosenthal\\nContacto de 2º grado\\n2º\\nData Scientist at SKF Group\\nSKF Group\\nDistrito de Tel Aviv, Israel Información de contacto',\n",
       " 'nada',\n",
       " 'Shlomo Beychok\\nContacto de 2º grado\\n2º\\nData Scientist @ Cordio\\nCORDIO Medical Ltd.\\nBen-Gurion University of the Negev\\nDistrito de Tel Aviv, Israel Información de contacto',\n",
       " 'nada',\n",
       " 'Lior Tabori\\nContacto de 2º grado\\n2º\\nData Scientist & Economist\\nIntuit\\nYandex Y-Data program\\nDistrito de Tel Aviv, Israel Información de contacto',\n",
       " 'Haim Simon\\nContacto de 2º grado\\n2º\\nData Scientist at Meta (fka Facebook)\\nMeta\\nTel Aviv University\\nDistrito de Tel Aviv, Israel Información de contacto',\n",
       " 'Yotam Rotholz\\nContacto de 2º grado\\n2º\\nData Scientist at Playtika\\nPlaytika\\nBen-Gurion University of the Negev\\nIsrael Información de contacto',\n",
       " 'Olivier Nouchi\\nContacto de 2º grado\\n2º\\nData Scientist\\nTemas que suele tratar: #chess, #ironman y #machinelearning\\nHabla sobre hashtag chess, hashtag ironman y hashtag machinelearning\\nCYE\\nIsrael Tech Challenge <itc>\\nDistrito de Tel Aviv, Israel Información de contacto',\n",
       " 'Yehudit (Reyzer) Meged\\nContacto de 2º grado\\n2º\\nData Scientist II @ Microsoft\\nMicrosoft\\nBar-Ilan University\\nIsrael Información de contacto',\n",
       " 'Yuval Herman\\nContacto de 2º grado\\n2º\\nData Scientist at Fido Credit\\nFido Solutions Limited\\nIsrael Tech Challenge <itc>\\nCentro / Ha Merkaz, Israel Información de contacto']"
      ]
     },
     "execution_count": 7,
     "metadata": {},
     "output_type": "execute_result"
    }
   ],
   "source": [
    "information"
   ]
  },
  {
   "cell_type": "code",
   "execution_count": null,
   "id": "83be7c9c",
   "metadata": {},
   "outputs": [],
   "source": [
    "information"
   ]
  },
  {
   "cell_type": "code",
   "execution_count": 6,
   "id": "ddf6a7ed",
   "metadata": {},
   "outputs": [],
   "source": [
    "try:\n",
    "    c = driver.find_element_by_xpath('/html/body/div[5]/div[3]/div/div[2]/div/div[1]/main/div/div/div[2]/div[2]/div/button[2]').click()\n",
    "    paso_pagina = True\n",
    "except:\n",
    "    pass\n",
    "\n",
    "try:\n",
    "    c = driver.find_element_by_xpath('/html/body/div[6]/div[3]/div/div[2]/div/div[1]/main/div/div/div[2]/div[2]/div/button[2]').click()\n",
    "    paso_pagina = True\n",
    "except:\n",
    "    pass"
   ]
  },
  {
   "cell_type": "markdown",
   "id": "1e8feccf",
   "metadata": {},
   "source": [
    "# MOSTRAS MAS EXPERIENCIA "
   ]
  },
  {
   "cell_type": "code",
   "execution_count": 88,
   "id": "f678c9cd",
   "metadata": {},
   "outputs": [],
   "source": [
    "c = driver.find_element_by_xpath('/html/body/div[5]/div[3]/div/div/div/div/div[3]/div/div/main/div/div/div[7]/div/section/div[2]/button').click()\n"
   ]
  },
  {
   "cell_type": "code",
   "execution_count": 111,
   "id": "39ffae31",
   "metadata": {},
   "outputs": [],
   "source": [
    "c = driver.find_element_by_xpath('/html/body/div[6]/div[3]/div/div/div/div/div[3]/div/div/main/div/div/div[5]/span/div/section/div[1]/section/div/button').click()"
   ]
  },
  {
   "cell_type": "markdown",
   "id": "375a8601",
   "metadata": {},
   "source": [
    "# VER EXPERIENCIA COMPLETA"
   ]
  },
  {
   "cell_type": "code",
   "execution_count": 112,
   "id": "88f55db5",
   "metadata": {
    "collapsed": true
   },
   "outputs": [
    {
     "ename": "NoSuchElementException",
     "evalue": "Message: no such element: Unable to locate element: {\"method\":\"xpath\",\"selector\":\"/html/body/div[5]/div[3]/div/div/div/div/div[3]/div/div/main/div/div/div[5]/span/div/section/div[1]/section/ul/li[2]/section/div/div/div/div/span/button\"}\n  (Session info: chrome=96.0.4664.93)\n",
     "output_type": "error",
     "traceback": [
      "\u001b[1;31m---------------------------------------------------------------------------\u001b[0m",
      "\u001b[1;31mNoSuchElementException\u001b[0m                    Traceback (most recent call last)",
      "\u001b[1;32m<ipython-input-112-d258638552bd>\u001b[0m in \u001b[0;36m<module>\u001b[1;34m\u001b[0m\n\u001b[0;32m      1\u001b[0m \u001b[1;31m# hay que modificar el ultima \"li[1]\"\u001b[0m\u001b[1;33m\u001b[0m\u001b[1;33m\u001b[0m\u001b[1;33m\u001b[0m\u001b[0m\n\u001b[1;32m----> 2\u001b[1;33m \u001b[0mc\u001b[0m \u001b[1;33m=\u001b[0m \u001b[0mdriver\u001b[0m\u001b[1;33m.\u001b[0m\u001b[0mfind_element_by_xpath\u001b[0m\u001b[1;33m(\u001b[0m\u001b[1;34m'/html/body/div[5]/div[3]/div/div/div/div/div[3]/div/div/main/div/div/div[5]/span/div/section/div[1]/section/ul/li[2]/section/div/div/div/div/span/button'\u001b[0m\u001b[1;33m)\u001b[0m\u001b[1;33m.\u001b[0m\u001b[0mclick\u001b[0m\u001b[1;33m(\u001b[0m\u001b[1;33m)\u001b[0m\u001b[1;33m\u001b[0m\u001b[1;33m\u001b[0m\u001b[0m\n\u001b[0m",
      "\u001b[1;32m~\\Anaconda3\\lib\\site-packages\\selenium\\webdriver\\remote\\webdriver.py\u001b[0m in \u001b[0;36mfind_element_by_xpath\u001b[1;34m(self, xpath)\u001b[0m\n\u001b[0;32m    392\u001b[0m             \u001b[0melement\u001b[0m \u001b[1;33m=\u001b[0m \u001b[0mdriver\u001b[0m\u001b[1;33m.\u001b[0m\u001b[0mfind_element_by_xpath\u001b[0m\u001b[1;33m(\u001b[0m\u001b[1;34m'//div/td[1]'\u001b[0m\u001b[1;33m)\u001b[0m\u001b[1;33m\u001b[0m\u001b[1;33m\u001b[0m\u001b[0m\n\u001b[0;32m    393\u001b[0m         \"\"\"\n\u001b[1;32m--> 394\u001b[1;33m         \u001b[1;32mreturn\u001b[0m \u001b[0mself\u001b[0m\u001b[1;33m.\u001b[0m\u001b[0mfind_element\u001b[0m\u001b[1;33m(\u001b[0m\u001b[0mby\u001b[0m\u001b[1;33m=\u001b[0m\u001b[0mBy\u001b[0m\u001b[1;33m.\u001b[0m\u001b[0mXPATH\u001b[0m\u001b[1;33m,\u001b[0m \u001b[0mvalue\u001b[0m\u001b[1;33m=\u001b[0m\u001b[0mxpath\u001b[0m\u001b[1;33m)\u001b[0m\u001b[1;33m\u001b[0m\u001b[1;33m\u001b[0m\u001b[0m\n\u001b[0m\u001b[0;32m    395\u001b[0m \u001b[1;33m\u001b[0m\u001b[0m\n\u001b[0;32m    396\u001b[0m     \u001b[1;32mdef\u001b[0m \u001b[0mfind_elements_by_xpath\u001b[0m\u001b[1;33m(\u001b[0m\u001b[0mself\u001b[0m\u001b[1;33m,\u001b[0m \u001b[0mxpath\u001b[0m\u001b[1;33m)\u001b[0m\u001b[1;33m:\u001b[0m\u001b[1;33m\u001b[0m\u001b[1;33m\u001b[0m\u001b[0m\n",
      "\u001b[1;32m~\\Anaconda3\\lib\\site-packages\\selenium\\webdriver\\remote\\webdriver.py\u001b[0m in \u001b[0;36mfind_element\u001b[1;34m(self, by, value)\u001b[0m\n\u001b[0;32m    974\u001b[0m                 \u001b[0mby\u001b[0m \u001b[1;33m=\u001b[0m \u001b[0mBy\u001b[0m\u001b[1;33m.\u001b[0m\u001b[0mCSS_SELECTOR\u001b[0m\u001b[1;33m\u001b[0m\u001b[1;33m\u001b[0m\u001b[0m\n\u001b[0;32m    975\u001b[0m                 \u001b[0mvalue\u001b[0m \u001b[1;33m=\u001b[0m \u001b[1;34m'[name=\"%s\"]'\u001b[0m \u001b[1;33m%\u001b[0m \u001b[0mvalue\u001b[0m\u001b[1;33m\u001b[0m\u001b[1;33m\u001b[0m\u001b[0m\n\u001b[1;32m--> 976\u001b[1;33m         return self.execute(Command.FIND_ELEMENT, {\n\u001b[0m\u001b[0;32m    977\u001b[0m             \u001b[1;34m'using'\u001b[0m\u001b[1;33m:\u001b[0m \u001b[0mby\u001b[0m\u001b[1;33m,\u001b[0m\u001b[1;33m\u001b[0m\u001b[1;33m\u001b[0m\u001b[0m\n\u001b[0;32m    978\u001b[0m             'value': value})['value']\n",
      "\u001b[1;32m~\\Anaconda3\\lib\\site-packages\\selenium\\webdriver\\remote\\webdriver.py\u001b[0m in \u001b[0;36mexecute\u001b[1;34m(self, driver_command, params)\u001b[0m\n\u001b[0;32m    319\u001b[0m         \u001b[0mresponse\u001b[0m \u001b[1;33m=\u001b[0m \u001b[0mself\u001b[0m\u001b[1;33m.\u001b[0m\u001b[0mcommand_executor\u001b[0m\u001b[1;33m.\u001b[0m\u001b[0mexecute\u001b[0m\u001b[1;33m(\u001b[0m\u001b[0mdriver_command\u001b[0m\u001b[1;33m,\u001b[0m \u001b[0mparams\u001b[0m\u001b[1;33m)\u001b[0m\u001b[1;33m\u001b[0m\u001b[1;33m\u001b[0m\u001b[0m\n\u001b[0;32m    320\u001b[0m         \u001b[1;32mif\u001b[0m \u001b[0mresponse\u001b[0m\u001b[1;33m:\u001b[0m\u001b[1;33m\u001b[0m\u001b[1;33m\u001b[0m\u001b[0m\n\u001b[1;32m--> 321\u001b[1;33m             \u001b[0mself\u001b[0m\u001b[1;33m.\u001b[0m\u001b[0merror_handler\u001b[0m\u001b[1;33m.\u001b[0m\u001b[0mcheck_response\u001b[0m\u001b[1;33m(\u001b[0m\u001b[0mresponse\u001b[0m\u001b[1;33m)\u001b[0m\u001b[1;33m\u001b[0m\u001b[1;33m\u001b[0m\u001b[0m\n\u001b[0m\u001b[0;32m    322\u001b[0m             response['value'] = self._unwrap_value(\n\u001b[0;32m    323\u001b[0m                 response.get('value', None))\n",
      "\u001b[1;32m~\\Anaconda3\\lib\\site-packages\\selenium\\webdriver\\remote\\errorhandler.py\u001b[0m in \u001b[0;36mcheck_response\u001b[1;34m(self, response)\u001b[0m\n\u001b[0;32m    240\u001b[0m                 \u001b[0malert_text\u001b[0m \u001b[1;33m=\u001b[0m \u001b[0mvalue\u001b[0m\u001b[1;33m[\u001b[0m\u001b[1;34m'alert'\u001b[0m\u001b[1;33m]\u001b[0m\u001b[1;33m.\u001b[0m\u001b[0mget\u001b[0m\u001b[1;33m(\u001b[0m\u001b[1;34m'text'\u001b[0m\u001b[1;33m)\u001b[0m\u001b[1;33m\u001b[0m\u001b[1;33m\u001b[0m\u001b[0m\n\u001b[0;32m    241\u001b[0m             \u001b[1;32mraise\u001b[0m \u001b[0mexception_class\u001b[0m\u001b[1;33m(\u001b[0m\u001b[0mmessage\u001b[0m\u001b[1;33m,\u001b[0m \u001b[0mscreen\u001b[0m\u001b[1;33m,\u001b[0m \u001b[0mstacktrace\u001b[0m\u001b[1;33m,\u001b[0m \u001b[0malert_text\u001b[0m\u001b[1;33m)\u001b[0m\u001b[1;33m\u001b[0m\u001b[1;33m\u001b[0m\u001b[0m\n\u001b[1;32m--> 242\u001b[1;33m         \u001b[1;32mraise\u001b[0m \u001b[0mexception_class\u001b[0m\u001b[1;33m(\u001b[0m\u001b[0mmessage\u001b[0m\u001b[1;33m,\u001b[0m \u001b[0mscreen\u001b[0m\u001b[1;33m,\u001b[0m \u001b[0mstacktrace\u001b[0m\u001b[1;33m)\u001b[0m\u001b[1;33m\u001b[0m\u001b[1;33m\u001b[0m\u001b[0m\n\u001b[0m\u001b[0;32m    243\u001b[0m \u001b[1;33m\u001b[0m\u001b[0m\n\u001b[0;32m    244\u001b[0m     \u001b[1;32mdef\u001b[0m \u001b[0m_value_or_default\u001b[0m\u001b[1;33m(\u001b[0m\u001b[0mself\u001b[0m\u001b[1;33m,\u001b[0m \u001b[0mobj\u001b[0m\u001b[1;33m,\u001b[0m \u001b[0mkey\u001b[0m\u001b[1;33m,\u001b[0m \u001b[0mdefault\u001b[0m\u001b[1;33m)\u001b[0m\u001b[1;33m:\u001b[0m\u001b[1;33m\u001b[0m\u001b[1;33m\u001b[0m\u001b[0m\n",
      "\u001b[1;31mNoSuchElementException\u001b[0m: Message: no such element: Unable to locate element: {\"method\":\"xpath\",\"selector\":\"/html/body/div[5]/div[3]/div/div/div/div/div[3]/div/div/main/div/div/div[5]/span/div/section/div[1]/section/ul/li[2]/section/div/div/div/div/span/button\"}\n  (Session info: chrome=96.0.4664.93)\n"
     ]
    }
   ],
   "source": [
    "# hay que modificar el ultima \"li[1]\"\n",
    "c = driver.find_element_by_xpath('/html/body/div[5]/div[3]/div/div/div/div/div[3]/div/div/main/div/div/div[5]/span/div/section/div[1]/section/ul/li[2]/section/div/div/div/div/span/button').click()"
   ]
  },
  {
   "cell_type": "code",
   "execution_count": 115,
   "id": "6ad7e4c6",
   "metadata": {},
   "outputs": [],
   "source": [
    "# hay que modificar el ultima \"li[1]\"\n",
    "c = driver.find_element_by_xpath('/html/body/div[6]/div[3]/div/div/div/div/div[3]/div/div/main/div/div/div[5]/span/div/section/div[1]/section/ul/li[2]/section/div/div/div/div/span/button').click()"
   ]
  },
  {
   "cell_type": "markdown",
   "id": "b7c914e7",
   "metadata": {},
   "source": [
    "# MOSTRAR MAS EDUCACION"
   ]
  },
  {
   "cell_type": "code",
   "execution_count": 92,
   "id": "42dd0cda",
   "metadata": {},
   "outputs": [],
   "source": [
    "c = driver.find_element_by_xpath('/html/body/div[5]/div[3]/div/div/div/div/div[3]/div/div/main/div/div/div[5]/span/div/section/div[2]/section/div/button').click()"
   ]
  },
  {
   "cell_type": "markdown",
   "id": "b0b74f03",
   "metadata": {},
   "source": [
    "# MOSTRAR MAS CERTIFICACIONES"
   ]
  },
  {
   "cell_type": "code",
   "execution_count": 118,
   "id": "3ea247fe",
   "metadata": {},
   "outputs": [],
   "source": [
    "# el primer div puede ser 5 o 6\n",
    "c = driver.find_element_by_xpath('/html/body/div[6]/div[3]/div/div/div/div/div[3]/div/div/main/div/div/div[5]/span/div/section/div[3]/section/div/button').click()"
   ]
  },
  {
   "cell_type": "markdown",
   "id": "89b5b235",
   "metadata": {},
   "source": [
    "# MOSTRAR APTITUDES"
   ]
  },
  {
   "cell_type": "markdown",
   "id": "3d1aa65a",
   "metadata": {},
   "source": [
    "# 1"
   ]
  },
  {
   "cell_type": "code",
   "execution_count": 81,
   "id": "597de46a",
   "metadata": {
    "collapsed": true
   },
   "outputs": [
    {
     "ename": "NoSuchElementException",
     "evalue": "Message: no such element: Unable to locate element: {\"method\":\"xpath\",\"selector\":\"/html/body/div[6]/div[3]/div/div/div/div/div[3]/div/div/main/div/div/div[6]/div/section/ol\"}\n  (Session info: chrome=96.0.4664.93)\n",
     "output_type": "error",
     "traceback": [
      "\u001b[1;31m---------------------------------------------------------------------------\u001b[0m",
      "\u001b[1;31mNoSuchElementException\u001b[0m                    Traceback (most recent call last)",
      "\u001b[1;32m<ipython-input-81-e93a6dcd863f>\u001b[0m in \u001b[0;36m<module>\u001b[1;34m\u001b[0m\n\u001b[1;32m----> 1\u001b[1;33m \u001b[0mt\u001b[0m \u001b[1;33m=\u001b[0m \u001b[0mdriver\u001b[0m\u001b[1;33m.\u001b[0m\u001b[0mfind_element_by_xpath\u001b[0m\u001b[1;33m(\u001b[0m\u001b[1;34m'/html/body/div[6]/div[3]/div/div/div/div/div[3]/div/div/main/div/div/div[6]/div/section/ol'\u001b[0m\u001b[1;33m)\u001b[0m\u001b[1;33m\u001b[0m\u001b[1;33m\u001b[0m\u001b[0m\n\u001b[0m\u001b[0;32m      2\u001b[0m \u001b[0mprint\u001b[0m\u001b[1;33m(\u001b[0m\u001b[0mt\u001b[0m\u001b[1;33m.\u001b[0m\u001b[0mtext\u001b[0m\u001b[1;33m)\u001b[0m\u001b[1;33m\u001b[0m\u001b[1;33m\u001b[0m\u001b[0m\n",
      "\u001b[1;32m~\\Anaconda3\\lib\\site-packages\\selenium\\webdriver\\remote\\webdriver.py\u001b[0m in \u001b[0;36mfind_element_by_xpath\u001b[1;34m(self, xpath)\u001b[0m\n\u001b[0;32m    392\u001b[0m             \u001b[0melement\u001b[0m \u001b[1;33m=\u001b[0m \u001b[0mdriver\u001b[0m\u001b[1;33m.\u001b[0m\u001b[0mfind_element_by_xpath\u001b[0m\u001b[1;33m(\u001b[0m\u001b[1;34m'//div/td[1]'\u001b[0m\u001b[1;33m)\u001b[0m\u001b[1;33m\u001b[0m\u001b[1;33m\u001b[0m\u001b[0m\n\u001b[0;32m    393\u001b[0m         \"\"\"\n\u001b[1;32m--> 394\u001b[1;33m         \u001b[1;32mreturn\u001b[0m \u001b[0mself\u001b[0m\u001b[1;33m.\u001b[0m\u001b[0mfind_element\u001b[0m\u001b[1;33m(\u001b[0m\u001b[0mby\u001b[0m\u001b[1;33m=\u001b[0m\u001b[0mBy\u001b[0m\u001b[1;33m.\u001b[0m\u001b[0mXPATH\u001b[0m\u001b[1;33m,\u001b[0m \u001b[0mvalue\u001b[0m\u001b[1;33m=\u001b[0m\u001b[0mxpath\u001b[0m\u001b[1;33m)\u001b[0m\u001b[1;33m\u001b[0m\u001b[1;33m\u001b[0m\u001b[0m\n\u001b[0m\u001b[0;32m    395\u001b[0m \u001b[1;33m\u001b[0m\u001b[0m\n\u001b[0;32m    396\u001b[0m     \u001b[1;32mdef\u001b[0m \u001b[0mfind_elements_by_xpath\u001b[0m\u001b[1;33m(\u001b[0m\u001b[0mself\u001b[0m\u001b[1;33m,\u001b[0m \u001b[0mxpath\u001b[0m\u001b[1;33m)\u001b[0m\u001b[1;33m:\u001b[0m\u001b[1;33m\u001b[0m\u001b[1;33m\u001b[0m\u001b[0m\n",
      "\u001b[1;32m~\\Anaconda3\\lib\\site-packages\\selenium\\webdriver\\remote\\webdriver.py\u001b[0m in \u001b[0;36mfind_element\u001b[1;34m(self, by, value)\u001b[0m\n\u001b[0;32m    974\u001b[0m                 \u001b[0mby\u001b[0m \u001b[1;33m=\u001b[0m \u001b[0mBy\u001b[0m\u001b[1;33m.\u001b[0m\u001b[0mCSS_SELECTOR\u001b[0m\u001b[1;33m\u001b[0m\u001b[1;33m\u001b[0m\u001b[0m\n\u001b[0;32m    975\u001b[0m                 \u001b[0mvalue\u001b[0m \u001b[1;33m=\u001b[0m \u001b[1;34m'[name=\"%s\"]'\u001b[0m \u001b[1;33m%\u001b[0m \u001b[0mvalue\u001b[0m\u001b[1;33m\u001b[0m\u001b[1;33m\u001b[0m\u001b[0m\n\u001b[1;32m--> 976\u001b[1;33m         return self.execute(Command.FIND_ELEMENT, {\n\u001b[0m\u001b[0;32m    977\u001b[0m             \u001b[1;34m'using'\u001b[0m\u001b[1;33m:\u001b[0m \u001b[0mby\u001b[0m\u001b[1;33m,\u001b[0m\u001b[1;33m\u001b[0m\u001b[1;33m\u001b[0m\u001b[0m\n\u001b[0;32m    978\u001b[0m             'value': value})['value']\n",
      "\u001b[1;32m~\\Anaconda3\\lib\\site-packages\\selenium\\webdriver\\remote\\webdriver.py\u001b[0m in \u001b[0;36mexecute\u001b[1;34m(self, driver_command, params)\u001b[0m\n\u001b[0;32m    319\u001b[0m         \u001b[0mresponse\u001b[0m \u001b[1;33m=\u001b[0m \u001b[0mself\u001b[0m\u001b[1;33m.\u001b[0m\u001b[0mcommand_executor\u001b[0m\u001b[1;33m.\u001b[0m\u001b[0mexecute\u001b[0m\u001b[1;33m(\u001b[0m\u001b[0mdriver_command\u001b[0m\u001b[1;33m,\u001b[0m \u001b[0mparams\u001b[0m\u001b[1;33m)\u001b[0m\u001b[1;33m\u001b[0m\u001b[1;33m\u001b[0m\u001b[0m\n\u001b[0;32m    320\u001b[0m         \u001b[1;32mif\u001b[0m \u001b[0mresponse\u001b[0m\u001b[1;33m:\u001b[0m\u001b[1;33m\u001b[0m\u001b[1;33m\u001b[0m\u001b[0m\n\u001b[1;32m--> 321\u001b[1;33m             \u001b[0mself\u001b[0m\u001b[1;33m.\u001b[0m\u001b[0merror_handler\u001b[0m\u001b[1;33m.\u001b[0m\u001b[0mcheck_response\u001b[0m\u001b[1;33m(\u001b[0m\u001b[0mresponse\u001b[0m\u001b[1;33m)\u001b[0m\u001b[1;33m\u001b[0m\u001b[1;33m\u001b[0m\u001b[0m\n\u001b[0m\u001b[0;32m    322\u001b[0m             response['value'] = self._unwrap_value(\n\u001b[0;32m    323\u001b[0m                 response.get('value', None))\n",
      "\u001b[1;32m~\\Anaconda3\\lib\\site-packages\\selenium\\webdriver\\remote\\errorhandler.py\u001b[0m in \u001b[0;36mcheck_response\u001b[1;34m(self, response)\u001b[0m\n\u001b[0;32m    240\u001b[0m                 \u001b[0malert_text\u001b[0m \u001b[1;33m=\u001b[0m \u001b[0mvalue\u001b[0m\u001b[1;33m[\u001b[0m\u001b[1;34m'alert'\u001b[0m\u001b[1;33m]\u001b[0m\u001b[1;33m.\u001b[0m\u001b[0mget\u001b[0m\u001b[1;33m(\u001b[0m\u001b[1;34m'text'\u001b[0m\u001b[1;33m)\u001b[0m\u001b[1;33m\u001b[0m\u001b[1;33m\u001b[0m\u001b[0m\n\u001b[0;32m    241\u001b[0m             \u001b[1;32mraise\u001b[0m \u001b[0mexception_class\u001b[0m\u001b[1;33m(\u001b[0m\u001b[0mmessage\u001b[0m\u001b[1;33m,\u001b[0m \u001b[0mscreen\u001b[0m\u001b[1;33m,\u001b[0m \u001b[0mstacktrace\u001b[0m\u001b[1;33m,\u001b[0m \u001b[0malert_text\u001b[0m\u001b[1;33m)\u001b[0m\u001b[1;33m\u001b[0m\u001b[1;33m\u001b[0m\u001b[0m\n\u001b[1;32m--> 242\u001b[1;33m         \u001b[1;32mraise\u001b[0m \u001b[0mexception_class\u001b[0m\u001b[1;33m(\u001b[0m\u001b[0mmessage\u001b[0m\u001b[1;33m,\u001b[0m \u001b[0mscreen\u001b[0m\u001b[1;33m,\u001b[0m \u001b[0mstacktrace\u001b[0m\u001b[1;33m)\u001b[0m\u001b[1;33m\u001b[0m\u001b[1;33m\u001b[0m\u001b[0m\n\u001b[0m\u001b[0;32m    243\u001b[0m \u001b[1;33m\u001b[0m\u001b[0m\n\u001b[0;32m    244\u001b[0m     \u001b[1;32mdef\u001b[0m \u001b[0m_value_or_default\u001b[0m\u001b[1;33m(\u001b[0m\u001b[0mself\u001b[0m\u001b[1;33m,\u001b[0m \u001b[0mobj\u001b[0m\u001b[1;33m,\u001b[0m \u001b[0mkey\u001b[0m\u001b[1;33m,\u001b[0m \u001b[0mdefault\u001b[0m\u001b[1;33m)\u001b[0m\u001b[1;33m:\u001b[0m\u001b[1;33m\u001b[0m\u001b[1;33m\u001b[0m\u001b[0m\n",
      "\u001b[1;31mNoSuchElementException\u001b[0m: Message: no such element: Unable to locate element: {\"method\":\"xpath\",\"selector\":\"/html/body/div[6]/div[3]/div/div/div/div/div[3]/div/div/main/div/div/div[6]/div/section/ol\"}\n  (Session info: chrome=96.0.4664.93)\n"
     ]
    }
   ],
   "source": [
    "t = driver.find_element_by_xpath('/html/body/div[6]/div[3]/div/div/div/div/div[3]/div/div/main/div/div/div[6]/div/section/ol')\n",
    "print(t.text)"
   ]
  },
  {
   "cell_type": "markdown",
   "id": "7bb6bf0b",
   "metadata": {},
   "source": [
    "# 2"
   ]
  },
  {
   "cell_type": "code",
   "execution_count": 82,
   "id": "f1eec090",
   "metadata": {
    "collapsed": true
   },
   "outputs": [
    {
     "ename": "NoSuchElementException",
     "evalue": "Message: no such element: Unable to locate element: {\"method\":\"xpath\",\"selector\":\"/html/body/div[6]/div[3]/div/div/div/div/div[3]/div/div/main/div/div/div[7]/div/section/ol\"}\n  (Session info: chrome=96.0.4664.93)\n",
     "output_type": "error",
     "traceback": [
      "\u001b[1;31m---------------------------------------------------------------------------\u001b[0m",
      "\u001b[1;31mNoSuchElementException\u001b[0m                    Traceback (most recent call last)",
      "\u001b[1;32m<ipython-input-82-8f7241afc165>\u001b[0m in \u001b[0;36m<module>\u001b[1;34m\u001b[0m\n\u001b[1;32m----> 1\u001b[1;33m \u001b[0mt\u001b[0m \u001b[1;33m=\u001b[0m \u001b[0mdriver\u001b[0m\u001b[1;33m.\u001b[0m\u001b[0mfind_element_by_xpath\u001b[0m\u001b[1;33m(\u001b[0m\u001b[1;34m'/html/body/div[6]/div[3]/div/div/div/div/div[3]/div/div/main/div/div/div[7]/div/section/ol'\u001b[0m\u001b[1;33m)\u001b[0m\u001b[1;33m\u001b[0m\u001b[1;33m\u001b[0m\u001b[0m\n\u001b[0m\u001b[0;32m      2\u001b[0m \u001b[0mprint\u001b[0m\u001b[1;33m(\u001b[0m\u001b[0mt\u001b[0m\u001b[1;33m.\u001b[0m\u001b[0mtext\u001b[0m\u001b[1;33m)\u001b[0m\u001b[1;33m\u001b[0m\u001b[1;33m\u001b[0m\u001b[0m\n",
      "\u001b[1;32m~\\Anaconda3\\lib\\site-packages\\selenium\\webdriver\\remote\\webdriver.py\u001b[0m in \u001b[0;36mfind_element_by_xpath\u001b[1;34m(self, xpath)\u001b[0m\n\u001b[0;32m    392\u001b[0m             \u001b[0melement\u001b[0m \u001b[1;33m=\u001b[0m \u001b[0mdriver\u001b[0m\u001b[1;33m.\u001b[0m\u001b[0mfind_element_by_xpath\u001b[0m\u001b[1;33m(\u001b[0m\u001b[1;34m'//div/td[1]'\u001b[0m\u001b[1;33m)\u001b[0m\u001b[1;33m\u001b[0m\u001b[1;33m\u001b[0m\u001b[0m\n\u001b[0;32m    393\u001b[0m         \"\"\"\n\u001b[1;32m--> 394\u001b[1;33m         \u001b[1;32mreturn\u001b[0m \u001b[0mself\u001b[0m\u001b[1;33m.\u001b[0m\u001b[0mfind_element\u001b[0m\u001b[1;33m(\u001b[0m\u001b[0mby\u001b[0m\u001b[1;33m=\u001b[0m\u001b[0mBy\u001b[0m\u001b[1;33m.\u001b[0m\u001b[0mXPATH\u001b[0m\u001b[1;33m,\u001b[0m \u001b[0mvalue\u001b[0m\u001b[1;33m=\u001b[0m\u001b[0mxpath\u001b[0m\u001b[1;33m)\u001b[0m\u001b[1;33m\u001b[0m\u001b[1;33m\u001b[0m\u001b[0m\n\u001b[0m\u001b[0;32m    395\u001b[0m \u001b[1;33m\u001b[0m\u001b[0m\n\u001b[0;32m    396\u001b[0m     \u001b[1;32mdef\u001b[0m \u001b[0mfind_elements_by_xpath\u001b[0m\u001b[1;33m(\u001b[0m\u001b[0mself\u001b[0m\u001b[1;33m,\u001b[0m \u001b[0mxpath\u001b[0m\u001b[1;33m)\u001b[0m\u001b[1;33m:\u001b[0m\u001b[1;33m\u001b[0m\u001b[1;33m\u001b[0m\u001b[0m\n",
      "\u001b[1;32m~\\Anaconda3\\lib\\site-packages\\selenium\\webdriver\\remote\\webdriver.py\u001b[0m in \u001b[0;36mfind_element\u001b[1;34m(self, by, value)\u001b[0m\n\u001b[0;32m    974\u001b[0m                 \u001b[0mby\u001b[0m \u001b[1;33m=\u001b[0m \u001b[0mBy\u001b[0m\u001b[1;33m.\u001b[0m\u001b[0mCSS_SELECTOR\u001b[0m\u001b[1;33m\u001b[0m\u001b[1;33m\u001b[0m\u001b[0m\n\u001b[0;32m    975\u001b[0m                 \u001b[0mvalue\u001b[0m \u001b[1;33m=\u001b[0m \u001b[1;34m'[name=\"%s\"]'\u001b[0m \u001b[1;33m%\u001b[0m \u001b[0mvalue\u001b[0m\u001b[1;33m\u001b[0m\u001b[1;33m\u001b[0m\u001b[0m\n\u001b[1;32m--> 976\u001b[1;33m         return self.execute(Command.FIND_ELEMENT, {\n\u001b[0m\u001b[0;32m    977\u001b[0m             \u001b[1;34m'using'\u001b[0m\u001b[1;33m:\u001b[0m \u001b[0mby\u001b[0m\u001b[1;33m,\u001b[0m\u001b[1;33m\u001b[0m\u001b[1;33m\u001b[0m\u001b[0m\n\u001b[0;32m    978\u001b[0m             'value': value})['value']\n",
      "\u001b[1;32m~\\Anaconda3\\lib\\site-packages\\selenium\\webdriver\\remote\\webdriver.py\u001b[0m in \u001b[0;36mexecute\u001b[1;34m(self, driver_command, params)\u001b[0m\n\u001b[0;32m    319\u001b[0m         \u001b[0mresponse\u001b[0m \u001b[1;33m=\u001b[0m \u001b[0mself\u001b[0m\u001b[1;33m.\u001b[0m\u001b[0mcommand_executor\u001b[0m\u001b[1;33m.\u001b[0m\u001b[0mexecute\u001b[0m\u001b[1;33m(\u001b[0m\u001b[0mdriver_command\u001b[0m\u001b[1;33m,\u001b[0m \u001b[0mparams\u001b[0m\u001b[1;33m)\u001b[0m\u001b[1;33m\u001b[0m\u001b[1;33m\u001b[0m\u001b[0m\n\u001b[0;32m    320\u001b[0m         \u001b[1;32mif\u001b[0m \u001b[0mresponse\u001b[0m\u001b[1;33m:\u001b[0m\u001b[1;33m\u001b[0m\u001b[1;33m\u001b[0m\u001b[0m\n\u001b[1;32m--> 321\u001b[1;33m             \u001b[0mself\u001b[0m\u001b[1;33m.\u001b[0m\u001b[0merror_handler\u001b[0m\u001b[1;33m.\u001b[0m\u001b[0mcheck_response\u001b[0m\u001b[1;33m(\u001b[0m\u001b[0mresponse\u001b[0m\u001b[1;33m)\u001b[0m\u001b[1;33m\u001b[0m\u001b[1;33m\u001b[0m\u001b[0m\n\u001b[0m\u001b[0;32m    322\u001b[0m             response['value'] = self._unwrap_value(\n\u001b[0;32m    323\u001b[0m                 response.get('value', None))\n",
      "\u001b[1;32m~\\Anaconda3\\lib\\site-packages\\selenium\\webdriver\\remote\\errorhandler.py\u001b[0m in \u001b[0;36mcheck_response\u001b[1;34m(self, response)\u001b[0m\n\u001b[0;32m    240\u001b[0m                 \u001b[0malert_text\u001b[0m \u001b[1;33m=\u001b[0m \u001b[0mvalue\u001b[0m\u001b[1;33m[\u001b[0m\u001b[1;34m'alert'\u001b[0m\u001b[1;33m]\u001b[0m\u001b[1;33m.\u001b[0m\u001b[0mget\u001b[0m\u001b[1;33m(\u001b[0m\u001b[1;34m'text'\u001b[0m\u001b[1;33m)\u001b[0m\u001b[1;33m\u001b[0m\u001b[1;33m\u001b[0m\u001b[0m\n\u001b[0;32m    241\u001b[0m             \u001b[1;32mraise\u001b[0m \u001b[0mexception_class\u001b[0m\u001b[1;33m(\u001b[0m\u001b[0mmessage\u001b[0m\u001b[1;33m,\u001b[0m \u001b[0mscreen\u001b[0m\u001b[1;33m,\u001b[0m \u001b[0mstacktrace\u001b[0m\u001b[1;33m,\u001b[0m \u001b[0malert_text\u001b[0m\u001b[1;33m)\u001b[0m\u001b[1;33m\u001b[0m\u001b[1;33m\u001b[0m\u001b[0m\n\u001b[1;32m--> 242\u001b[1;33m         \u001b[1;32mraise\u001b[0m \u001b[0mexception_class\u001b[0m\u001b[1;33m(\u001b[0m\u001b[0mmessage\u001b[0m\u001b[1;33m,\u001b[0m \u001b[0mscreen\u001b[0m\u001b[1;33m,\u001b[0m \u001b[0mstacktrace\u001b[0m\u001b[1;33m)\u001b[0m\u001b[1;33m\u001b[0m\u001b[1;33m\u001b[0m\u001b[0m\n\u001b[0m\u001b[0;32m    243\u001b[0m \u001b[1;33m\u001b[0m\u001b[0m\n\u001b[0;32m    244\u001b[0m     \u001b[1;32mdef\u001b[0m \u001b[0m_value_or_default\u001b[0m\u001b[1;33m(\u001b[0m\u001b[0mself\u001b[0m\u001b[1;33m,\u001b[0m \u001b[0mobj\u001b[0m\u001b[1;33m,\u001b[0m \u001b[0mkey\u001b[0m\u001b[1;33m,\u001b[0m \u001b[0mdefault\u001b[0m\u001b[1;33m)\u001b[0m\u001b[1;33m:\u001b[0m\u001b[1;33m\u001b[0m\u001b[1;33m\u001b[0m\u001b[0m\n",
      "\u001b[1;31mNoSuchElementException\u001b[0m: Message: no such element: Unable to locate element: {\"method\":\"xpath\",\"selector\":\"/html/body/div[6]/div[3]/div/div/div/div/div[3]/div/div/main/div/div/div[7]/div/section/ol\"}\n  (Session info: chrome=96.0.4664.93)\n"
     ]
    }
   ],
   "source": [
    "t = driver.find_element_by_xpath('/html/body/div[6]/div[3]/div/div/div/div/div[3]/div/div/main/div/div/div[7]/div/section/ol')\n",
    "print(t.text)"
   ]
  },
  {
   "cell_type": "markdown",
   "id": "b046f897",
   "metadata": {},
   "source": [
    "# 3"
   ]
  },
  {
   "cell_type": "code",
   "execution_count": 83,
   "id": "4d4b7464",
   "metadata": {
    "collapsed": true
   },
   "outputs": [
    {
     "ename": "NoSuchElementException",
     "evalue": "Message: no such element: Unable to locate element: {\"method\":\"xpath\",\"selector\":\"/html/body/div[5]/div[3]/div/div/div/div/div[3]/div/div/main/div/div/div[6]/div/section/ol\"}\n  (Session info: chrome=96.0.4664.93)\n",
     "output_type": "error",
     "traceback": [
      "\u001b[1;31m---------------------------------------------------------------------------\u001b[0m",
      "\u001b[1;31mNoSuchElementException\u001b[0m                    Traceback (most recent call last)",
      "\u001b[1;32m<ipython-input-83-5eeca2c9de68>\u001b[0m in \u001b[0;36m<module>\u001b[1;34m\u001b[0m\n\u001b[1;32m----> 1\u001b[1;33m \u001b[0mt\u001b[0m \u001b[1;33m=\u001b[0m \u001b[0mdriver\u001b[0m\u001b[1;33m.\u001b[0m\u001b[0mfind_element_by_xpath\u001b[0m\u001b[1;33m(\u001b[0m\u001b[1;34m'/html/body/div[5]/div[3]/div/div/div/div/div[3]/div/div/main/div/div/div[6]/div/section/ol'\u001b[0m\u001b[1;33m)\u001b[0m\u001b[1;33m\u001b[0m\u001b[1;33m\u001b[0m\u001b[0m\n\u001b[0m\u001b[0;32m      2\u001b[0m \u001b[0mprint\u001b[0m\u001b[1;33m(\u001b[0m\u001b[0mt\u001b[0m\u001b[1;33m.\u001b[0m\u001b[0mtext\u001b[0m\u001b[1;33m)\u001b[0m\u001b[1;33m\u001b[0m\u001b[1;33m\u001b[0m\u001b[0m\n",
      "\u001b[1;32m~\\Anaconda3\\lib\\site-packages\\selenium\\webdriver\\remote\\webdriver.py\u001b[0m in \u001b[0;36mfind_element_by_xpath\u001b[1;34m(self, xpath)\u001b[0m\n\u001b[0;32m    392\u001b[0m             \u001b[0melement\u001b[0m \u001b[1;33m=\u001b[0m \u001b[0mdriver\u001b[0m\u001b[1;33m.\u001b[0m\u001b[0mfind_element_by_xpath\u001b[0m\u001b[1;33m(\u001b[0m\u001b[1;34m'//div/td[1]'\u001b[0m\u001b[1;33m)\u001b[0m\u001b[1;33m\u001b[0m\u001b[1;33m\u001b[0m\u001b[0m\n\u001b[0;32m    393\u001b[0m         \"\"\"\n\u001b[1;32m--> 394\u001b[1;33m         \u001b[1;32mreturn\u001b[0m \u001b[0mself\u001b[0m\u001b[1;33m.\u001b[0m\u001b[0mfind_element\u001b[0m\u001b[1;33m(\u001b[0m\u001b[0mby\u001b[0m\u001b[1;33m=\u001b[0m\u001b[0mBy\u001b[0m\u001b[1;33m.\u001b[0m\u001b[0mXPATH\u001b[0m\u001b[1;33m,\u001b[0m \u001b[0mvalue\u001b[0m\u001b[1;33m=\u001b[0m\u001b[0mxpath\u001b[0m\u001b[1;33m)\u001b[0m\u001b[1;33m\u001b[0m\u001b[1;33m\u001b[0m\u001b[0m\n\u001b[0m\u001b[0;32m    395\u001b[0m \u001b[1;33m\u001b[0m\u001b[0m\n\u001b[0;32m    396\u001b[0m     \u001b[1;32mdef\u001b[0m \u001b[0mfind_elements_by_xpath\u001b[0m\u001b[1;33m(\u001b[0m\u001b[0mself\u001b[0m\u001b[1;33m,\u001b[0m \u001b[0mxpath\u001b[0m\u001b[1;33m)\u001b[0m\u001b[1;33m:\u001b[0m\u001b[1;33m\u001b[0m\u001b[1;33m\u001b[0m\u001b[0m\n",
      "\u001b[1;32m~\\Anaconda3\\lib\\site-packages\\selenium\\webdriver\\remote\\webdriver.py\u001b[0m in \u001b[0;36mfind_element\u001b[1;34m(self, by, value)\u001b[0m\n\u001b[0;32m    974\u001b[0m                 \u001b[0mby\u001b[0m \u001b[1;33m=\u001b[0m \u001b[0mBy\u001b[0m\u001b[1;33m.\u001b[0m\u001b[0mCSS_SELECTOR\u001b[0m\u001b[1;33m\u001b[0m\u001b[1;33m\u001b[0m\u001b[0m\n\u001b[0;32m    975\u001b[0m                 \u001b[0mvalue\u001b[0m \u001b[1;33m=\u001b[0m \u001b[1;34m'[name=\"%s\"]'\u001b[0m \u001b[1;33m%\u001b[0m \u001b[0mvalue\u001b[0m\u001b[1;33m\u001b[0m\u001b[1;33m\u001b[0m\u001b[0m\n\u001b[1;32m--> 976\u001b[1;33m         return self.execute(Command.FIND_ELEMENT, {\n\u001b[0m\u001b[0;32m    977\u001b[0m             \u001b[1;34m'using'\u001b[0m\u001b[1;33m:\u001b[0m \u001b[0mby\u001b[0m\u001b[1;33m,\u001b[0m\u001b[1;33m\u001b[0m\u001b[1;33m\u001b[0m\u001b[0m\n\u001b[0;32m    978\u001b[0m             'value': value})['value']\n",
      "\u001b[1;32m~\\Anaconda3\\lib\\site-packages\\selenium\\webdriver\\remote\\webdriver.py\u001b[0m in \u001b[0;36mexecute\u001b[1;34m(self, driver_command, params)\u001b[0m\n\u001b[0;32m    319\u001b[0m         \u001b[0mresponse\u001b[0m \u001b[1;33m=\u001b[0m \u001b[0mself\u001b[0m\u001b[1;33m.\u001b[0m\u001b[0mcommand_executor\u001b[0m\u001b[1;33m.\u001b[0m\u001b[0mexecute\u001b[0m\u001b[1;33m(\u001b[0m\u001b[0mdriver_command\u001b[0m\u001b[1;33m,\u001b[0m \u001b[0mparams\u001b[0m\u001b[1;33m)\u001b[0m\u001b[1;33m\u001b[0m\u001b[1;33m\u001b[0m\u001b[0m\n\u001b[0;32m    320\u001b[0m         \u001b[1;32mif\u001b[0m \u001b[0mresponse\u001b[0m\u001b[1;33m:\u001b[0m\u001b[1;33m\u001b[0m\u001b[1;33m\u001b[0m\u001b[0m\n\u001b[1;32m--> 321\u001b[1;33m             \u001b[0mself\u001b[0m\u001b[1;33m.\u001b[0m\u001b[0merror_handler\u001b[0m\u001b[1;33m.\u001b[0m\u001b[0mcheck_response\u001b[0m\u001b[1;33m(\u001b[0m\u001b[0mresponse\u001b[0m\u001b[1;33m)\u001b[0m\u001b[1;33m\u001b[0m\u001b[1;33m\u001b[0m\u001b[0m\n\u001b[0m\u001b[0;32m    322\u001b[0m             response['value'] = self._unwrap_value(\n\u001b[0;32m    323\u001b[0m                 response.get('value', None))\n",
      "\u001b[1;32m~\\Anaconda3\\lib\\site-packages\\selenium\\webdriver\\remote\\errorhandler.py\u001b[0m in \u001b[0;36mcheck_response\u001b[1;34m(self, response)\u001b[0m\n\u001b[0;32m    240\u001b[0m                 \u001b[0malert_text\u001b[0m \u001b[1;33m=\u001b[0m \u001b[0mvalue\u001b[0m\u001b[1;33m[\u001b[0m\u001b[1;34m'alert'\u001b[0m\u001b[1;33m]\u001b[0m\u001b[1;33m.\u001b[0m\u001b[0mget\u001b[0m\u001b[1;33m(\u001b[0m\u001b[1;34m'text'\u001b[0m\u001b[1;33m)\u001b[0m\u001b[1;33m\u001b[0m\u001b[1;33m\u001b[0m\u001b[0m\n\u001b[0;32m    241\u001b[0m             \u001b[1;32mraise\u001b[0m \u001b[0mexception_class\u001b[0m\u001b[1;33m(\u001b[0m\u001b[0mmessage\u001b[0m\u001b[1;33m,\u001b[0m \u001b[0mscreen\u001b[0m\u001b[1;33m,\u001b[0m \u001b[0mstacktrace\u001b[0m\u001b[1;33m,\u001b[0m \u001b[0malert_text\u001b[0m\u001b[1;33m)\u001b[0m\u001b[1;33m\u001b[0m\u001b[1;33m\u001b[0m\u001b[0m\n\u001b[1;32m--> 242\u001b[1;33m         \u001b[1;32mraise\u001b[0m \u001b[0mexception_class\u001b[0m\u001b[1;33m(\u001b[0m\u001b[0mmessage\u001b[0m\u001b[1;33m,\u001b[0m \u001b[0mscreen\u001b[0m\u001b[1;33m,\u001b[0m \u001b[0mstacktrace\u001b[0m\u001b[1;33m)\u001b[0m\u001b[1;33m\u001b[0m\u001b[1;33m\u001b[0m\u001b[0m\n\u001b[0m\u001b[0;32m    243\u001b[0m \u001b[1;33m\u001b[0m\u001b[0m\n\u001b[0;32m    244\u001b[0m     \u001b[1;32mdef\u001b[0m \u001b[0m_value_or_default\u001b[0m\u001b[1;33m(\u001b[0m\u001b[0mself\u001b[0m\u001b[1;33m,\u001b[0m \u001b[0mobj\u001b[0m\u001b[1;33m,\u001b[0m \u001b[0mkey\u001b[0m\u001b[1;33m,\u001b[0m \u001b[0mdefault\u001b[0m\u001b[1;33m)\u001b[0m\u001b[1;33m:\u001b[0m\u001b[1;33m\u001b[0m\u001b[1;33m\u001b[0m\u001b[0m\n",
      "\u001b[1;31mNoSuchElementException\u001b[0m: Message: no such element: Unable to locate element: {\"method\":\"xpath\",\"selector\":\"/html/body/div[5]/div[3]/div/div/div/div/div[3]/div/div/main/div/div/div[6]/div/section/ol\"}\n  (Session info: chrome=96.0.4664.93)\n"
     ]
    }
   ],
   "source": [
    "t = driver.find_element_by_xpath('/html/body/div[5]/div[3]/div/div/div/div/div[3]/div/div/main/div/div/div[6]/div/section/ol')\n",
    "print(t.text)"
   ]
  },
  {
   "cell_type": "markdown",
   "id": "4135c285",
   "metadata": {},
   "source": [
    "# 4"
   ]
  },
  {
   "cell_type": "code",
   "execution_count": 84,
   "id": "6a296c6d",
   "metadata": {},
   "outputs": [
    {
     "name": "stdout",
     "output_type": "stream",
     "text": [
      "Data Science\n",
      "Ver 3 validaciones de Data Science\n",
      "3\n",
      "Ramasundari Baalakrishnan y 2 contactos han validado esta aptitud.\n",
      "Predictive Modeling\n",
      "Ver 2 validaciones de Predictive Modeling\n",
      "2\n",
      "vivek agarwal y 1 contacto han validado esta aptitud.\n",
      "Statistical Data Analysis\n",
      "Ver 1 validación de Statistical Data Analysis\n",
      "1\n",
      "Senthil Thyagarajan ha validado esta aptitud.\n"
     ]
    }
   ],
   "source": [
    "t = driver.find_element_by_xpath('/html/body/div[5]/div[3]/div/div/div/div/div[3]/div/div/main/div/div/div[7]/div/section/ol')\n",
    "print(t.text)"
   ]
  },
  {
   "cell_type": "markdown",
   "id": "c407ff91",
   "metadata": {},
   "source": [
    "# MOSTRAS MAS APTITUDES"
   ]
  },
  {
   "cell_type": "markdown",
   "id": "bea3e2f7",
   "metadata": {},
   "source": [
    "# 1"
   ]
  },
  {
   "cell_type": "code",
   "execution_count": null,
   "id": "9d5c14ec",
   "metadata": {},
   "outputs": [],
   "source": [
    "c = driver.find_element_by_xpath('/html/body/div[6]/div[3]/div/div/div/div/div[3]/div/div/main/div/div/div[6]/div/section/div[2]/button').click()"
   ]
  },
  {
   "cell_type": "markdown",
   "id": "3e907648",
   "metadata": {},
   "source": [
    "# 2"
   ]
  },
  {
   "cell_type": "code",
   "execution_count": null,
   "id": "620a92af",
   "metadata": {},
   "outputs": [],
   "source": [
    "c = driver.find_element_by_xpath('/html/body/div[6]/div[3]/div/div/div/div/div[3]/div/div/main/div/div/div[5]/span/div/section/div[1]/section/ul/li[4]/section/div/div/div/div/span/button').click()"
   ]
  },
  {
   "cell_type": "markdown",
   "id": "103bc5e3",
   "metadata": {},
   "source": [
    "# 3"
   ]
  },
  {
   "cell_type": "code",
   "execution_count": 86,
   "id": "899e012e",
   "metadata": {
    "collapsed": true
   },
   "outputs": [
    {
     "ename": "NoSuchElementException",
     "evalue": "Message: no such element: Unable to locate element: {\"method\":\"xpath\",\"selector\":\"/html/body/div[5]/div[3]/div/div/div/div/div[3]/div/div/main/div/div/div[6]/div/section/div[2]/button\"}\n  (Session info: chrome=96.0.4664.93)\n",
     "output_type": "error",
     "traceback": [
      "\u001b[1;31m---------------------------------------------------------------------------\u001b[0m",
      "\u001b[1;31mNoSuchElementException\u001b[0m                    Traceback (most recent call last)",
      "\u001b[1;32m<ipython-input-86-54faa0379564>\u001b[0m in \u001b[0;36m<module>\u001b[1;34m\u001b[0m\n\u001b[0;32m     11\u001b[0m     \u001b[1;32mpass\u001b[0m\u001b[1;33m\u001b[0m\u001b[1;33m\u001b[0m\u001b[0m\n\u001b[0;32m     12\u001b[0m \u001b[1;33m\u001b[0m\u001b[0m\n\u001b[1;32m---> 13\u001b[1;33m \u001b[0mc\u001b[0m \u001b[1;33m=\u001b[0m \u001b[0mdriver\u001b[0m\u001b[1;33m.\u001b[0m\u001b[0mfind_element_by_xpath\u001b[0m\u001b[1;33m(\u001b[0m\u001b[1;34m'/html/body/div[5]/div[3]/div/div/div/div/div[3]/div/div/main/div/div/div[6]/div/section/div[2]/button'\u001b[0m\u001b[1;33m)\u001b[0m\u001b[1;33m.\u001b[0m\u001b[0mclick\u001b[0m\u001b[1;33m(\u001b[0m\u001b[1;33m)\u001b[0m\u001b[1;33m\u001b[0m\u001b[1;33m\u001b[0m\u001b[0m\n\u001b[0m\u001b[0;32m     14\u001b[0m \u001b[0mmore_aptitudes\u001b[0m \u001b[1;33m=\u001b[0m \u001b[1;32mTrue\u001b[0m\u001b[1;33m\u001b[0m\u001b[1;33m\u001b[0m\u001b[0m\n",
      "\u001b[1;32m~\\Anaconda3\\lib\\site-packages\\selenium\\webdriver\\remote\\webdriver.py\u001b[0m in \u001b[0;36mfind_element_by_xpath\u001b[1;34m(self, xpath)\u001b[0m\n\u001b[0;32m    392\u001b[0m             \u001b[0melement\u001b[0m \u001b[1;33m=\u001b[0m \u001b[0mdriver\u001b[0m\u001b[1;33m.\u001b[0m\u001b[0mfind_element_by_xpath\u001b[0m\u001b[1;33m(\u001b[0m\u001b[1;34m'//div/td[1]'\u001b[0m\u001b[1;33m)\u001b[0m\u001b[1;33m\u001b[0m\u001b[1;33m\u001b[0m\u001b[0m\n\u001b[0;32m    393\u001b[0m         \"\"\"\n\u001b[1;32m--> 394\u001b[1;33m         \u001b[1;32mreturn\u001b[0m \u001b[0mself\u001b[0m\u001b[1;33m.\u001b[0m\u001b[0mfind_element\u001b[0m\u001b[1;33m(\u001b[0m\u001b[0mby\u001b[0m\u001b[1;33m=\u001b[0m\u001b[0mBy\u001b[0m\u001b[1;33m.\u001b[0m\u001b[0mXPATH\u001b[0m\u001b[1;33m,\u001b[0m \u001b[0mvalue\u001b[0m\u001b[1;33m=\u001b[0m\u001b[0mxpath\u001b[0m\u001b[1;33m)\u001b[0m\u001b[1;33m\u001b[0m\u001b[1;33m\u001b[0m\u001b[0m\n\u001b[0m\u001b[0;32m    395\u001b[0m \u001b[1;33m\u001b[0m\u001b[0m\n\u001b[0;32m    396\u001b[0m     \u001b[1;32mdef\u001b[0m \u001b[0mfind_elements_by_xpath\u001b[0m\u001b[1;33m(\u001b[0m\u001b[0mself\u001b[0m\u001b[1;33m,\u001b[0m \u001b[0mxpath\u001b[0m\u001b[1;33m)\u001b[0m\u001b[1;33m:\u001b[0m\u001b[1;33m\u001b[0m\u001b[1;33m\u001b[0m\u001b[0m\n",
      "\u001b[1;32m~\\Anaconda3\\lib\\site-packages\\selenium\\webdriver\\remote\\webdriver.py\u001b[0m in \u001b[0;36mfind_element\u001b[1;34m(self, by, value)\u001b[0m\n\u001b[0;32m    974\u001b[0m                 \u001b[0mby\u001b[0m \u001b[1;33m=\u001b[0m \u001b[0mBy\u001b[0m\u001b[1;33m.\u001b[0m\u001b[0mCSS_SELECTOR\u001b[0m\u001b[1;33m\u001b[0m\u001b[1;33m\u001b[0m\u001b[0m\n\u001b[0;32m    975\u001b[0m                 \u001b[0mvalue\u001b[0m \u001b[1;33m=\u001b[0m \u001b[1;34m'[name=\"%s\"]'\u001b[0m \u001b[1;33m%\u001b[0m \u001b[0mvalue\u001b[0m\u001b[1;33m\u001b[0m\u001b[1;33m\u001b[0m\u001b[0m\n\u001b[1;32m--> 976\u001b[1;33m         return self.execute(Command.FIND_ELEMENT, {\n\u001b[0m\u001b[0;32m    977\u001b[0m             \u001b[1;34m'using'\u001b[0m\u001b[1;33m:\u001b[0m \u001b[0mby\u001b[0m\u001b[1;33m,\u001b[0m\u001b[1;33m\u001b[0m\u001b[1;33m\u001b[0m\u001b[0m\n\u001b[0;32m    978\u001b[0m             'value': value})['value']\n",
      "\u001b[1;32m~\\Anaconda3\\lib\\site-packages\\selenium\\webdriver\\remote\\webdriver.py\u001b[0m in \u001b[0;36mexecute\u001b[1;34m(self, driver_command, params)\u001b[0m\n\u001b[0;32m    319\u001b[0m         \u001b[0mresponse\u001b[0m \u001b[1;33m=\u001b[0m \u001b[0mself\u001b[0m\u001b[1;33m.\u001b[0m\u001b[0mcommand_executor\u001b[0m\u001b[1;33m.\u001b[0m\u001b[0mexecute\u001b[0m\u001b[1;33m(\u001b[0m\u001b[0mdriver_command\u001b[0m\u001b[1;33m,\u001b[0m \u001b[0mparams\u001b[0m\u001b[1;33m)\u001b[0m\u001b[1;33m\u001b[0m\u001b[1;33m\u001b[0m\u001b[0m\n\u001b[0;32m    320\u001b[0m         \u001b[1;32mif\u001b[0m \u001b[0mresponse\u001b[0m\u001b[1;33m:\u001b[0m\u001b[1;33m\u001b[0m\u001b[1;33m\u001b[0m\u001b[0m\n\u001b[1;32m--> 321\u001b[1;33m             \u001b[0mself\u001b[0m\u001b[1;33m.\u001b[0m\u001b[0merror_handler\u001b[0m\u001b[1;33m.\u001b[0m\u001b[0mcheck_response\u001b[0m\u001b[1;33m(\u001b[0m\u001b[0mresponse\u001b[0m\u001b[1;33m)\u001b[0m\u001b[1;33m\u001b[0m\u001b[1;33m\u001b[0m\u001b[0m\n\u001b[0m\u001b[0;32m    322\u001b[0m             response['value'] = self._unwrap_value(\n\u001b[0;32m    323\u001b[0m                 response.get('value', None))\n",
      "\u001b[1;32m~\\Anaconda3\\lib\\site-packages\\selenium\\webdriver\\remote\\errorhandler.py\u001b[0m in \u001b[0;36mcheck_response\u001b[1;34m(self, response)\u001b[0m\n\u001b[0;32m    240\u001b[0m                 \u001b[0malert_text\u001b[0m \u001b[1;33m=\u001b[0m \u001b[0mvalue\u001b[0m\u001b[1;33m[\u001b[0m\u001b[1;34m'alert'\u001b[0m\u001b[1;33m]\u001b[0m\u001b[1;33m.\u001b[0m\u001b[0mget\u001b[0m\u001b[1;33m(\u001b[0m\u001b[1;34m'text'\u001b[0m\u001b[1;33m)\u001b[0m\u001b[1;33m\u001b[0m\u001b[1;33m\u001b[0m\u001b[0m\n\u001b[0;32m    241\u001b[0m             \u001b[1;32mraise\u001b[0m \u001b[0mexception_class\u001b[0m\u001b[1;33m(\u001b[0m\u001b[0mmessage\u001b[0m\u001b[1;33m,\u001b[0m \u001b[0mscreen\u001b[0m\u001b[1;33m,\u001b[0m \u001b[0mstacktrace\u001b[0m\u001b[1;33m,\u001b[0m \u001b[0malert_text\u001b[0m\u001b[1;33m)\u001b[0m\u001b[1;33m\u001b[0m\u001b[1;33m\u001b[0m\u001b[0m\n\u001b[1;32m--> 242\u001b[1;33m         \u001b[1;32mraise\u001b[0m \u001b[0mexception_class\u001b[0m\u001b[1;33m(\u001b[0m\u001b[0mmessage\u001b[0m\u001b[1;33m,\u001b[0m \u001b[0mscreen\u001b[0m\u001b[1;33m,\u001b[0m \u001b[0mstacktrace\u001b[0m\u001b[1;33m)\u001b[0m\u001b[1;33m\u001b[0m\u001b[1;33m\u001b[0m\u001b[0m\n\u001b[0m\u001b[0;32m    243\u001b[0m \u001b[1;33m\u001b[0m\u001b[0m\n\u001b[0;32m    244\u001b[0m     \u001b[1;32mdef\u001b[0m \u001b[0m_value_or_default\u001b[0m\u001b[1;33m(\u001b[0m\u001b[0mself\u001b[0m\u001b[1;33m,\u001b[0m \u001b[0mobj\u001b[0m\u001b[1;33m,\u001b[0m \u001b[0mkey\u001b[0m\u001b[1;33m,\u001b[0m \u001b[0mdefault\u001b[0m\u001b[1;33m)\u001b[0m\u001b[1;33m:\u001b[0m\u001b[1;33m\u001b[0m\u001b[1;33m\u001b[0m\u001b[0m\n",
      "\u001b[1;31mNoSuchElementException\u001b[0m: Message: no such element: Unable to locate element: {\"method\":\"xpath\",\"selector\":\"/html/body/div[5]/div[3]/div/div/div/div/div[3]/div/div/main/div/div/div[6]/div/section/div[2]/button\"}\n  (Session info: chrome=96.0.4664.93)\n"
     ]
    }
   ],
   "source": [
    "c = driver.find_element_by_xpath('/html/body/div[5]/div[3]/div/div/div/div/div[3]/div/div/main/div/div/div[6]/div/section/div[2]/button').click()\n"
   ]
  },
  {
   "cell_type": "markdown",
   "id": "adba2d5f",
   "metadata": {},
   "source": [
    "# 4"
   ]
  },
  {
   "cell_type": "code",
   "execution_count": 88,
   "id": "f3ef7641",
   "metadata": {},
   "outputs": [],
   "source": [
    "c = driver.find_element_by_xpath('/html/body/div[5]/div[3]/div/div/div/div/div[3]/div/div/main/div/div/div[7]/div/section/div[2]/button').click()\n"
   ]
  },
  {
   "cell_type": "markdown",
   "id": "a0406be9",
   "metadata": {},
   "source": [
    "# 5"
   ]
  },
  {
   "cell_type": "code",
   "execution_count": 88,
   "id": "cb8445d5",
   "metadata": {},
   "outputs": [],
   "source": [
    "c = driver.find_element_by_xpath('/html/body/div[6]/div[3]/div/div/div/div/div[3]/div/div/main/div/div/div[7]/div/section/div[2]/button').click()\n"
   ]
  },
  {
   "cell_type": "code",
   "execution_count": null,
   "id": "12fb1e4a",
   "metadata": {},
   "outputs": [],
   "source": []
  },
  {
   "cell_type": "code",
   "execution_count": 68,
   "id": "31ad11dc",
   "metadata": {},
   "outputs": [
    {
     "data": {
      "text/plain": [
       "['Nombre de la empresa\\nBanco de Crédito BCP\\nDuración total\\n3 años\\nCargo\\nData Scientist\\nFechas de empleo\\nmar 2020 – actualidad\\nDuración del empleo\\n1 año y 10 meses\\nUbicación\\nPeru\\nCargo\\nData Scientist Trainee\\nFechas de empleo\\nene 2019 – mar 2020\\nDuración del empleo\\n1 año y 3 meses\\nData Scientist Intern\\nNombre de la empresa\\nInterbank\\nFechas de empleo\\nene 2018 – abr 2018\\nDuración del empleo\\n4 meses']"
      ]
     },
     "execution_count": 68,
     "metadata": {},
     "output_type": "execute_result"
    }
   ],
   "source": [
    "experiencia"
   ]
  },
  {
   "cell_type": "code",
   "execution_count": 5,
   "id": "9019ea53",
   "metadata": {},
   "outputs": [],
   "source": [
    "driver.set_window_size(1050, 660)"
   ]
  },
  {
   "cell_type": "code",
   "execution_count": 22,
   "id": "e5eb4cef",
   "metadata": {},
   "outputs": [],
   "source": [
    "driver.execute_script(\"window.scrollTo(0, document.body.scrollHeight);\")\n",
    "\n",
    "driver.execute_script(\"window.scrollBy(0,-800)\")"
   ]
  },
  {
   "cell_type": "code",
   "execution_count": 69,
   "id": "e45272bf",
   "metadata": {},
   "outputs": [
    {
     "name": "stdout",
     "output_type": "stream",
     "text": [
      "Otras aptitudes\n",
      "Análisis de Datos, Modelos predictivos, Riesgo Crediticio, R.\n",
      "Ver 1 validación de Análisis de Datos, Modelos predictivos, Riesgo Crediticio, R.\n",
      "1\n"
     ]
    }
   ],
   "source": [
    "t = driver.find_element_by_xpath('//*[@id=\"skill-categories-expanded\"]')\n",
    "print(t.text)"
   ]
  },
  {
   "cell_type": "code",
   "execution_count": 37,
   "id": "7507d94f",
   "metadata": {},
   "outputs": [],
   "source": [
    "df = pd.DataFrame({'info':information,'exp':experiencia, 'edu':education, 'cert':certificacion, 'apt1':aptitudes1, 'apt2':aptitudes2})"
   ]
  },
  {
   "cell_type": "code",
   "execution_count": 38,
   "id": "1666bee2",
   "metadata": {},
   "outputs": [],
   "source": [
    "df.to_csv('linke_scraper3.csv')"
   ]
  },
  {
   "cell_type": "code",
   "execution_count": 25,
   "id": "fdc6bf29",
   "metadata": {},
   "outputs": [
    {
     "data": {
      "text/plain": [
       "(140, 140, 140, 140, 140)"
      ]
     },
     "execution_count": 25,
     "metadata": {},
     "output_type": "execute_result"
    }
   ],
   "source": [
    "len(information), len(experiencia), len(certificacion), len(education), len(aptitudes1)"
   ]
  },
  {
   "cell_type": "code",
   "execution_count": null,
   "id": "a52ff419",
   "metadata": {},
   "outputs": [],
   "source": []
  }
 ],
 "metadata": {
  "kernelspec": {
   "display_name": "Python 3",
   "language": "python",
   "name": "python3"
  },
  "language_info": {
   "codemirror_mode": {
    "name": "ipython",
    "version": 3
   },
   "file_extension": ".py",
   "mimetype": "text/x-python",
   "name": "python",
   "nbconvert_exporter": "python",
   "pygments_lexer": "ipython3",
   "version": "3.8.8"
  }
 },
 "nbformat": 4,
 "nbformat_minor": 5
}
